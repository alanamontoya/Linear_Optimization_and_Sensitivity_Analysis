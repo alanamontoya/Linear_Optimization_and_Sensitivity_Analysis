{
  "nbformat": 4,
  "nbformat_minor": 0,
  "metadata": {
    "colab": {
      "name": "MATH 407 - Project 2",
      "provenance": [],
      "collapsed_sections": []
    },
    "kernelspec": {
      "name": "python3",
      "display_name": "Python 3"
    },
    "language_info": {
      "name": "python"
    }
  },
  "cells": [
    {
      "cell_type": "code",
      "metadata": {
        "id": "TMMGoyNKr7sz"
      },
      "source": [
        "# Alana Montoya\n",
        "# August 16, 2021\n",
        "# MATH 407 - Linear Optimization\n",
        "# Project 2"
      ],
      "execution_count": 179,
      "outputs": []
    },
    {
      "cell_type": "code",
      "metadata": {
        "id": "tR_q5E2ZHrXL"
      },
      "source": [
        "# Part 1: Solving the Problem\n",
        "\n",
        "# import libraries\n",
        "import math\n",
        "import numpy\n",
        "import sympy"
      ],
      "execution_count": 180,
      "outputs": []
    },
    {
      "cell_type": "code",
      "metadata": {
        "id": "G5xxyTMJQP3Y"
      },
      "source": [
        "# Let x0 be the kg of corn, x1 be the kg of tankage, and x2 be the kg of alfalfa\n",
        "# for a single pig and x3, x4, x5 be slack variables. Converting first to\n",
        "# standard form, then to the dual, and then to standard form, we get the\n",
        "# following matrices for the dual:\n",
        "\n",
        "A = numpy.array([[90,30,10,1,0,0],[20,80,20,0,1,0],[40,60,50,0,0,1]])\n",
        "c = numpy.array([[200],[180],[150],[0],[0],[0]])\n",
        "b = numpy.array([[35],[30],[25]])"
      ],
      "execution_count": 181,
      "outputs": []
    },
    {
      "cell_type": "code",
      "metadata": {
        "id": "BzVmk1WpQV9N"
      },
      "source": [
        "# The origin is feasible so start with y0, y1, y2 as nonbasic and the slack\n",
        "# variables y3,y4,y5 as basic\n",
        "\n",
        "B = [3,4,5]\n",
        "N = [0,1,2]"
      ],
      "execution_count": 182,
      "outputs": []
    },
    {
      "cell_type": "code",
      "metadata": {
        "colab": {
          "base_uri": "https://localhost:8080/",
          "height": 0
        },
        "id": "44s1G1qbQZwe",
        "outputId": "f678311c-0ec3-41fa-92b2-8a85036e4ed7"
      },
      "source": [
        "# Update the dictionary:\n",
        "\n",
        "print(c[B,:].transpose() @ numpy.linalg.inv(A[:,B]) @ b)\n",
        "#c_B^T times A_B^(-1) times b\n",
        "\n",
        "print()\n",
        "\n",
        "print(c[N,:].transpose() - c[B,:].transpose() @ numpy.linalg.inv(A[:,B]) @ A[:,N])\n",
        "#c_N^T - c_B^T times A_B^(-1) times A_N\n",
        "\n",
        "print()\n",
        "\n",
        "print(numpy.linalg.inv(A[:,B]) @ b)\n",
        "\n",
        "print()\n",
        "\n",
        "print(numpy.linalg.inv(A[:,B]) @ A[:,N])"
      ],
      "execution_count": 183,
      "outputs": [
        {
          "output_type": "stream",
          "text": [
            "[[0.]]\n",
            "\n",
            "[[200. 180. 150.]]\n",
            "\n",
            "[[35.]\n",
            " [30.]\n",
            " [25.]]\n",
            "\n",
            "[[90. 30. 10.]\n",
            " [20. 80. 20.]\n",
            " [40. 60. 50.]]\n"
          ],
          "name": "stdout"
        }
      ]
    },
    {
      "cell_type": "code",
      "metadata": {
        "colab": {
          "base_uri": "https://localhost:8080/",
          "height": 0
        },
        "id": "WsV3-JhdQvmx",
        "outputId": "9cc116e7-88a1-4b6a-b24b-166c8a51a05e"
      },
      "source": [
        "# Pick x0 to enter since 200 is positive. x0 corresponds to the first column of \n",
        "# the matrix.\n",
        "\n",
        "35/90, 30/20, 25/40"
      ],
      "execution_count": 184,
      "outputs": [
        {
          "output_type": "execute_result",
          "data": {
            "text/plain": [
              "(0.3888888888888889, 1.5, 0.625)"
            ]
          },
          "metadata": {
            "tags": []
          },
          "execution_count": 184
        }
      ]
    },
    {
      "cell_type": "code",
      "metadata": {
        "id": "jz9YRMD1RqSB"
      },
      "source": [
        "# Pick y3 to be the leaving variable since it has the smallest ratio.\n",
        "\n",
        "B = [0,4,5]\n",
        "N = [1,2,3]"
      ],
      "execution_count": 185,
      "outputs": []
    },
    {
      "cell_type": "code",
      "metadata": {
        "colab": {
          "base_uri": "https://localhost:8080/",
          "height": 0
        },
        "id": "3pKVTgSJSRPQ",
        "outputId": "05b86cd8-d7d5-46bb-cb58-53b39aca690b"
      },
      "source": [
        "# Update the dictionary:\n",
        "\n",
        "print(c[B,:].transpose() @ numpy.linalg.inv(A[:,B]) @ b)\n",
        "#c_B^T times A_B^(-1) times b\n",
        "\n",
        "print()\n",
        "\n",
        "print(c[N,:].transpose() - c[B,:].transpose() @ numpy.linalg.inv(A[:,B]) @ A[:,N])\n",
        "#c_N^T - c_B^T times A_B^(-1) times A_N\n",
        "\n",
        "print()\n",
        "\n",
        "print(numpy.linalg.inv(A[:,B]) @ b)\n",
        "\n",
        "print()\n",
        "\n",
        "print(numpy.linalg.inv(A[:,B]) @ A[:,N])"
      ],
      "execution_count": 186,
      "outputs": [
        {
          "output_type": "stream",
          "text": [
            "[[77.77777778]]\n",
            "\n",
            "[[113.33333333 127.77777778  -2.22222222]]\n",
            "\n",
            "[[ 0.38888889]\n",
            " [22.22222222]\n",
            " [ 9.44444444]]\n",
            "\n",
            "[[ 3.33333333e-01  1.11111111e-01  1.11111111e-02]\n",
            " [ 7.33333333e+01  1.77777778e+01 -2.22222222e-01]\n",
            " [ 4.66666667e+01  4.55555556e+01 -4.44444444e-01]]\n"
          ],
          "name": "stdout"
        }
      ]
    },
    {
      "cell_type": "code",
      "metadata": {
        "colab": {
          "base_uri": "https://localhost:8080/",
          "height": 0
        },
        "id": "gyNFkoVdSipx",
        "outputId": "a0cfa9b5-23c5-4c75-b996-97fbb8713fa2"
      },
      "source": [
        "# Pick y2 to enter since 127.77777778 is positive. y2 corresponds to the second\n",
        "# column of the matrix.\n",
        "\n",
        "0.38888889/1.11111111e-01, 22.22222222/1.77777778e+01, 9.44444444/4.55555556e+01"
      ],
      "execution_count": 187,
      "outputs": [
        {
          "output_type": "execute_result",
          "data": {
            "text/plain": [
              "(3.5000000135, 1.2499999983125, 0.20731707287091017)"
            ]
          },
          "metadata": {
            "tags": []
          },
          "execution_count": 187
        }
      ]
    },
    {
      "cell_type": "code",
      "metadata": {
        "id": "HqhyuyzTTR9K"
      },
      "source": [
        "# Pick y5 to be the leaving variable since it has the smallest ratio.\n",
        "\n",
        "B = [0,2,4]\n",
        "N = [1,3,5]"
      ],
      "execution_count": 188,
      "outputs": []
    },
    {
      "cell_type": "code",
      "metadata": {
        "colab": {
          "base_uri": "https://localhost:8080/",
          "height": 0
        },
        "id": "mRq-1xPnT4VY",
        "outputId": "a8147827-1b1e-4a5e-f609-621f79ab89c6"
      },
      "source": [
        "# Dual Optimal Dictionary:\n",
        "\n",
        "print(c[B,:].transpose() @ numpy.linalg.inv(A[:,B]) @ b)\n",
        "#c_B^T times A_B^(-1) times b\n",
        "\n",
        "print()\n",
        "\n",
        "print(c[N,:].transpose() - c[B,:].transpose() @ numpy.linalg.inv(A[:,B]) @ A[:,N])\n",
        "#c_N^T - c_B^T times A_B^(-1) times A_N\n",
        "\n",
        "print()\n",
        "\n",
        "print(numpy.linalg.inv(A[:,B]) @ b)\n",
        "\n",
        "print()\n",
        "\n",
        "print(numpy.linalg.inv(A[:,B]) @ A[:,N])"
      ],
      "execution_count": 189,
      "outputs": [
        {
          "output_type": "stream",
          "text": [
            "[[104.26829268]]\n",
            "\n",
            "[[-17.56097561  -0.97560976  -2.80487805]]\n",
            "\n",
            "[[ 0.36585366]\n",
            " [ 0.20731707]\n",
            " [18.53658537]]\n",
            "\n",
            "[[ 2.19512195e-01  1.21951220e-02 -2.43902439e-03]\n",
            " [ 1.02439024e+00 -9.75609756e-03  2.19512195e-02]\n",
            " [ 5.51219512e+01 -4.87804878e-02 -3.90243902e-01]]\n"
          ],
          "name": "stdout"
        }
      ]
    },
    {
      "cell_type": "code",
      "metadata": {
        "id": "0DanzKROUBSY"
      },
      "source": [
        "# The dual optimal solution is\n",
        "# y0 = 0.36585366, y1 = 0, y2 = 0.20731707, y3 = 0, y4 = 18.53658537, y5 = 0 \n",
        "# and -P = 104.26829268.\n",
        "\n",
        "# So, translating back to the primal problem, the primal optimal solution is\n",
        "# x0 = 0.97560976, x1 = 0, x2 = 2.80487805, x3 = 0, x4 = 17.56097561, x5 = 0\n",
        "# which produces a minimum cost of about 104 cents, which is simply $1.04."
      ],
      "execution_count": 190,
      "outputs": []
    },
    {
      "cell_type": "code",
      "metadata": {
        "id": "40fa2ChrmbAZ"
      },
      "source": [
        "# Part 2: Sensitivity Analysis\n",
        "\n",
        "# Question 1 (Range Analysis of the Objective Function):\n",
        "#       Is the current solution still optimal if the price of corn increases?\n",
        "#       If so, how much can it increase?\n",
        "\n",
        "# Convert the original problem into standard form to obtain the desired matrices.\n",
        "\n",
        "A = numpy.array([[-90,-20,-40,1,0,0],[-30,-80,-60,0,1,0],[-10,-20,-50,0,0,1]])\n",
        "c = numpy.array([[-35],[-30],[-25],[0],[0],[0]])\n",
        "b = numpy.array([[-200],[-180],[-150]])\n",
        "\n",
        "#       Note: doing this means that instead of finding what would happen if we\n",
        "#             replaced 35 in the vector c with some other value, we want to\n",
        "#             rather find what would happen if we replaced -35. 35 applies to\n",
        "#             the original problem (not in standard form) and -35 applies to the\n",
        "#             standard form of the original problem. Then, at the end we can\n",
        "#             multiply the inequality solution by -1 to get the inequality\n",
        "#             solution for the original problem that is not in standard form."
      ],
      "execution_count": 191,
      "outputs": []
    },
    {
      "cell_type": "code",
      "metadata": {
        "id": "Azq0PKWG6-Kx"
      },
      "source": [
        "# Define Deltac\n",
        "\n",
        "Deltac = numpy.array([[1],[0],[0],[0],[0],[0]])"
      ],
      "execution_count": 192,
      "outputs": []
    },
    {
      "cell_type": "code",
      "metadata": {
        "id": "enSGUxEB7FtU"
      },
      "source": [
        "# Define the basic and nonbasic varibles that produced the optimal solution for\n",
        "# the primal problem.\n",
        "\n",
        "B = [0,2,4]\n",
        "N = [1,3,5]"
      ],
      "execution_count": 193,
      "outputs": []
    },
    {
      "cell_type": "code",
      "metadata": {
        "colab": {
          "base_uri": "https://localhost:8080/",
          "height": 0
        },
        "id": "rqDZMeVy66O1",
        "outputId": "9b13cabe-2c29-4cdb-d7a1-33e55bb8d3ed"
      },
      "source": [
        "# Compute (c_n^T - c_B^T * A_B^{-1} * A_N) + t(Deltac_N^T - Deltac_B^T * A_B^{-1} * A_N)\n",
        "print(c[N,:].transpose() - c[B,:].transpose() @ numpy.linalg.inv(A[:,B]) @ A[:,N])\n",
        "# (c_n^T - c_B^T * A_B^{-1} * A_N)\n",
        "\n",
        "print()\n",
        "\n",
        "print(Deltac[N,:].transpose() - Deltac[B,:].transpose() @ numpy.linalg.inv(A[:,B]) @ A[:,N])\n",
        "# Deltac_N^T - Deltac_B^T * A_B^{-1} * A_N"
      ],
      "execution_count": 194,
      "outputs": [
        {
          "output_type": "stream",
          "text": [
            "[[-18.53658537  -0.36585366  -0.20731707]]\n",
            "\n",
            "[[-0.04878049  0.01219512 -0.0097561 ]]\n"
          ],
          "name": "stdout"
        }
      ]
    },
    {
      "cell_type": "code",
      "metadata": {
        "id": "-gvn9QUZ7v31"
      },
      "source": [
        "# Store these calculations to make accessing the numbers easy.\n",
        "\n",
        "c1 = c[N,:].transpose() - c[B,:].transpose() @ numpy.linalg.inv(A[:,B]) @ A[:,N]\n",
        "c2 = Deltac[N,:].transpose() - Deltac[B,:].transpose() @ numpy.linalg.inv(A[:,B]) @ A[:,N]"
      ],
      "execution_count": 195,
      "outputs": []
    },
    {
      "cell_type": "code",
      "metadata": {
        "id": "I6zkcAya76qp"
      },
      "source": [
        "# We want c1 + t*c2 <= 0.\n",
        "\n",
        "# Define the symbolic variables.\n",
        "t = sympy.symbols('t')"
      ],
      "execution_count": 196,
      "outputs": []
    },
    {
      "cell_type": "code",
      "metadata": {
        "colab": {
          "base_uri": "https://localhost:8080/",
          "height": 39
        },
        "id": "rGYN0Nhx8M6t",
        "outputId": "3958da02-ac20-4771-911d-968754913e1a"
      },
      "source": [
        "# Get entries of c1 and c2 using [i,j] (note that both are row vectors).\n",
        "# Solve a collection of equations/inequalities.\n",
        "#       The first input set of parenthesis are the inequalities.\n",
        "#       The second input is the variable.\n",
        "\n",
        "sympy.solve((c1[0,0]+t*c2[0,0]<=0,c1[0,1]+t*c2[0,1]<=0,c1[0,2]+t*c2[0,2]<=0),t)"
      ],
      "execution_count": 197,
      "outputs": [
        {
          "output_type": "execute_result",
          "data": {
            "text/latex": "$\\displaystyle -21.25 \\leq t \\wedge t \\leq 30.0$",
            "text/plain": [
              "(-21.25 <= t) & (t <= 30.0)"
            ]
          },
          "metadata": {
            "tags": []
          },
          "execution_count": 197
        }
      ]
    },
    {
      "cell_type": "code",
      "metadata": {
        "id": "L82sw03FBaqh"
      },
      "source": [
        "# Since these calculations were done to find how much -35 (for standard form of\n",
        "# original problem) could be increased or decreased, the inequality above needs\n",
        "# to by multiplied by -1 to determine how much 35 (for original problem not in\n",
        "# standard form) could be increased of decreased. So, the inequality becomes:\n",
        "#       -30 <= t <= 21.25\n",
        "# This means the cost of kg of corn can increase by about 21 cents."
      ],
      "execution_count": 198,
      "outputs": []
    },
    {
      "cell_type": "code",
      "metadata": {
        "id": "Luz7aRPpDmYu"
      },
      "source": [
        "# Question 2 (Pricing in a New Product):\n",
        "#       The farmer learns that his pigs like apples. As a treat, he decides to\n",
        "#       start buying them. Apples have\n",
        "#               70 carbohydates,\n",
        "#               30 protein, and\n",
        "#               10 vitamins.\n",
        "#       However, he will only buy them if his total costs decrease. Assuming the\n",
        "#       other prices remain the same, how much would the apples need to cost so\n",
        "#       that buying them reduces his costs?\n",
        "\n",
        "# Note: the following computations will use the standard form of the original\n",
        "#       problem. Since we will need to multiply everything by -1 to get to\n",
        "#       standard form, we will need to multiply our inequality solution by -1 to\n",
        "#       get the solution to the original problem that is not in standard form."
      ],
      "execution_count": 199,
      "outputs": []
    },
    {
      "cell_type": "code",
      "metadata": {
        "id": "zxve3rv9L0Eu"
      },
      "source": [
        "# Let x6 be the kg of apples and have their original cost be 0 so that B={0,2,4}\n",
        "# is still the optimal solution.\n",
        "\n",
        "# Update the previous matrices to include the apples.\n",
        "\n",
        "A = numpy.array([[-90,-20,-40,1,0,0,-70],[-30,-80,-60,0,1,0,-30],[-10,-20,-50,0,0,1,-10]])\n",
        "c = numpy.array([[-35],[-30],[-25],[0],[0],[0],[0]])\n",
        "b = numpy.array([[-200],[-180],[-150]])"
      ],
      "execution_count": 200,
      "outputs": []
    },
    {
      "cell_type": "code",
      "metadata": {
        "id": "EYsnOFSZMk1o"
      },
      "source": [
        "# Track changes in the cost of the apples with:\n",
        "Deltac = numpy.array([[0],[0],[0],[0],[0],[0],[1]])"
      ],
      "execution_count": 201,
      "outputs": []
    },
    {
      "cell_type": "code",
      "metadata": {
        "id": "Da3RFHG8V8n4"
      },
      "source": [
        "# Define the basic variables that produced the optimal solution for the primal\n",
        "# problem and extend the nonbasic varibles to include x6.\n",
        "\n",
        "B = [0,2,4]\n",
        "N = [1,3,5,6]"
      ],
      "execution_count": 202,
      "outputs": []
    },
    {
      "cell_type": "code",
      "metadata": {
        "colab": {
          "base_uri": "https://localhost:8080/",
          "height": 0
        },
        "id": "w6sCxGAoMzbd",
        "outputId": "29356934-c0bf-4d78-ecb6-c6c4674a6f79"
      },
      "source": [
        "# We want the smallest t so that\n",
        "# (c_n^T - c_B^T * A_B^{-1} * A_N) + t(Deltac_N^T - Deltac_B^T * A_B^{-1} * A_N)\n",
        "# has a positive entry in the entry for x6.\n",
        "\n",
        "# Using B={0,2,4}, compute\n",
        "# (c_n^T - c_B^T * A_B^{-1} * A_N) + t(Deltac_N^T - Deltac_B^T * A_B^{-1} * A_N)\n",
        "\n",
        "print(c[N,:].transpose() - c[B,:].transpose() @ numpy.linalg.inv(A[:,B]) @ A[:,N])\n",
        "# (c_n^T - c_B^T * A_B^{-1} * A_N)\n",
        "\n",
        "print()\n",
        "\n",
        "print(Deltac[N,:].transpose() - Deltac[B,:].transpose() @ numpy.linalg.inv(A[:,B]) @ A[:,N])\n",
        "# Deltac_N^T - Deltac_B^T * A_B^{-1} * A_N"
      ],
      "execution_count": 203,
      "outputs": [
        {
          "output_type": "stream",
          "text": [
            "[[-18.53658537  -0.36585366  -0.20731707  27.68292683]]\n",
            "\n",
            "[[0. 0. 0. 1.]]\n"
          ],
          "name": "stdout"
        }
      ]
    },
    {
      "cell_type": "code",
      "metadata": {
        "id": "i8D0SIbNXKlk"
      },
      "source": [
        "# Store these calculations to make accessing the numbers easy.\n",
        "\n",
        "c1 = c[N,:].transpose() - c[B,:].transpose() @ numpy.linalg.inv(A[:,B]) @ A[:,N]\n",
        "c2 = Deltac[N,:].transpose() - Deltac[B,:].transpose() @ numpy.linalg.inv(A[:,B]) @ A[:,N]"
      ],
      "execution_count": 204,
      "outputs": []
    },
    {
      "cell_type": "code",
      "metadata": {
        "id": "Rf-mrZ6FXWsV"
      },
      "source": [
        "# We want c1 + t*c2 > 0.\n",
        "\n",
        "# Define the symbolic variables.\n",
        "t = sympy.symbols('t')"
      ],
      "execution_count": 205,
      "outputs": []
    },
    {
      "cell_type": "code",
      "metadata": {
        "colab": {
          "base_uri": "https://localhost:8080/",
          "height": 39
        },
        "id": "PAB_7fn4XgGB",
        "outputId": "894a9819-1d43-4d71-9b20-cbf7c0ae2f60"
      },
      "source": [
        "# Get entries of c1 and c2 using [i,j] (note that both are row vectors).\n",
        "# Solve a collection of equations/inequalities.\n",
        "#       The first input set of parenthesis are the inequalities.\n",
        "#       The second input is the variable.\n",
        "\n",
        "sympy.solve((c1[0,3]+t*c2[0,3]>0),t)"
      ],
      "execution_count": 206,
      "outputs": [
        {
          "output_type": "execute_result",
          "data": {
            "text/latex": "$\\displaystyle -27.6829268292683 < t \\wedge t < \\infty$",
            "text/plain": [
              "(-27.6829268292683 < t) & (t < oo)"
            ]
          },
          "metadata": {
            "tags": []
          },
          "execution_count": 206
        }
      ]
    },
    {
      "cell_type": "code",
      "metadata": {
        "id": "0Dzp8Psbeil9"
      },
      "source": [
        "# So, −27.6829268292683 < t. But, since we converted the problem to standard\n",
        "# form (we multiplied the objective function by -1 to create a maximization\n",
        "# problem), this inequality needs to be multiplied by -1 to translate the cost\n",
        "# back to the original problem that is not in standard form. So, the inequality\n",
        "# becomes:\n",
        "#       t < 27.6829268292683.\n",
        "# This means the cost of the apples must be less than about 27.68 cents."
      ],
      "execution_count": 207,
      "outputs": []
    },
    {
      "cell_type": "code",
      "metadata": {
        "id": "TiEhwKh2UniW"
      },
      "source": [
        "# Question 3 (Range Analysis of the Constraints):\n",
        "#       A new study was released that suggests that pigs who have more than the\n",
        "#       intially indicated daily intake of vitamins tend to be happier. While it\n",
        "#       is not necessary for their physical health, the farmer still cares about\n",
        "#       their mental wellbeing and wants to increase the pig's mimimum daily\n",
        "#       intake of vitamins. How many vitamins could be added before the optimal\n",
        "#       solution of buying only corn and alfalfa is affected?"
      ],
      "execution_count": 208,
      "outputs": []
    },
    {
      "cell_type": "code",
      "metadata": {
        "id": "5NawLYCoKGnE"
      },
      "source": [
        "# Using the dual in standard form we get\n",
        "\n",
        "A = numpy.array([[90,30,10,1,0,0],[20,80,20,0,1,0],[40,60,50,0,0,1]])\n",
        "c = numpy.array([[200],[180],[150],[0],[0],[0]])\n",
        "b = numpy.array([[35],[30],[25]])"
      ],
      "execution_count": 209,
      "outputs": []
    },
    {
      "cell_type": "code",
      "metadata": {
        "id": "JSuiXKZrMprB"
      },
      "source": [
        "# The dual's optimal solution had basic and nonbasic variables defined by\n",
        "\n",
        "B = [0,2,4]\n",
        "N = [1,3,5]"
      ],
      "execution_count": 210,
      "outputs": []
    },
    {
      "cell_type": "code",
      "metadata": {
        "id": "zhBr047XNQWa"
      },
      "source": [
        "# Represent changing the 150 entry (indicates the minimum daily vitamin intake)\n",
        "# as replacing c with c + t*Deltac where\n",
        "\n",
        "Deltac = numpy.array([[0],[0],[1],[0],[0],[0]])"
      ],
      "execution_count": 211,
      "outputs": []
    },
    {
      "cell_type": "code",
      "metadata": {
        "colab": {
          "base_uri": "https://localhost:8080/",
          "height": 0
        },
        "id": "yjq04t8PNwXO",
        "outputId": "7b38c8cb-1899-4996-a68a-c664340e874a"
      },
      "source": [
        "# Calculating (c_n^T - c_B^T * A_B^{-1} * A_N) + t(Deltac_N^T - Deltac_B^T * A_B^{-1} * A_N)\n",
        "# with B = {0,2,4} and N = {1,3,5} we get\n",
        "\n",
        "print(c[N,:].transpose() - c[B,:].transpose() @ numpy.linalg.inv(A[:,B]) @ A[:,N])\n",
        "# (c_n^T - c_B^T * A_B^{-1} * A_N)\n",
        "\n",
        "print()\n",
        "\n",
        "print(Deltac[N,:].transpose() - Deltac[B,:].transpose() @ numpy.linalg.inv(A[:,B]) @ A[:,N])\n",
        "# Deltac_N^T - Deltac_B^T * A_B^{-1} * A_N"
      ],
      "execution_count": 212,
      "outputs": [
        {
          "output_type": "stream",
          "text": [
            "[[-17.56097561  -0.97560976  -2.80487805]]\n",
            "\n",
            "[[-1.02439024  0.0097561  -0.02195122]]\n"
          ],
          "name": "stdout"
        }
      ]
    },
    {
      "cell_type": "code",
      "metadata": {
        "id": "8fxNXxrmODoK"
      },
      "source": [
        "# Store these calculations to make accessing the numbers easy.\n",
        "\n",
        "c1 = c[N,:].transpose() - c[B,:].transpose() @ numpy.linalg.inv(A[:,B]) @ A[:,N]\n",
        "c2 = Deltac[N,:].transpose() - Deltac[B,:].transpose() @ numpy.linalg.inv(A[:,B]) @ A[:,N]"
      ],
      "execution_count": 213,
      "outputs": []
    },
    {
      "cell_type": "code",
      "metadata": {
        "id": "eioav8AKOJJU"
      },
      "source": [
        "# We want c1 + t*c2 <= 0.\n",
        "\n",
        "# Define the symbolic variables.\n",
        "t = sympy.symbols('t')"
      ],
      "execution_count": 214,
      "outputs": []
    },
    {
      "cell_type": "code",
      "metadata": {
        "colab": {
          "base_uri": "https://localhost:8080/",
          "height": 39
        },
        "id": "S6STqkVEOx9G",
        "outputId": "864695d3-5aeb-46cf-ab06-d2cdb7d2f454"
      },
      "source": [
        "# Get entries of c1 and c2 using [i,j] (note that both are row vectors).\n",
        "# Solve a collection of equations/inequalities.\n",
        "#       The first input set of parenthesis are the inequalities.\n",
        "#       The second input is the variable.\n",
        "\n",
        "sympy.solve((c1[0,0]+t*c2[0,0]<=0,c1[0,1]+t*c2[0,1]<=0,c1[0,2]+t*c2[0,2]<=0),t)"
      ],
      "execution_count": 215,
      "outputs": [
        {
          "output_type": "execute_result",
          "data": {
            "text/latex": "$\\displaystyle -17.1428571428571 \\leq t \\wedge t \\leq 100.0$",
            "text/plain": [
              "(-17.1428571428571 <= t) & (t <= 100.0)"
            ]
          },
          "metadata": {
            "tags": []
          },
          "execution_count": 215
        }
      ]
    },
    {
      "cell_type": "code",
      "metadata": {
        "id": "okjEed11TRHQ"
      },
      "source": [
        "# This shows that −17.1428571428571 ≤ t ≤ 100.0 would preserve the solution of \n",
        "# buying only corn and alfalfa. So, 100 vitamins could be added before the\n",
        "# optimal solution is affected."
      ],
      "execution_count": 216,
      "outputs": []
    }
  ]
}